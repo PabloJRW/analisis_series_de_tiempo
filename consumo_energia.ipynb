{
 "cells": [
  {
   "cell_type": "markdown",
   "id": "7d3ca177-5d0b-4406-9943-ae1a3d081a00",
   "metadata": {},
   "source": [
    "# <b>CONSUMO DE ENERGÍA ELÉCTRICA"
   ]
  },
  {
   "cell_type": "markdown",
   "id": "5703f44d-7735-4369-937a-1de1109e4736",
   "metadata": {},
   "source": [
    "American Electric Power (AEP), es una importante empresa de servicios públicos de propiedad de inversores en los Estados Unidos, que suministra electricidad a más de cinco millones de clientes en 11 estados.\n",
    "\n",
    "AEP se encuentra entre los generadores de electricidad más grandes del país y posee casi 38,000 megavatios de capacidad de generación en los EE. UU."
   ]
  },
  {
   "cell_type": "code",
   "execution_count": 1,
   "id": "472285ca-1d4c-44f3-a8fa-b02f73bfa230",
   "metadata": {},
   "outputs": [],
   "source": [
    "# Librerias necesarias\n",
    "# ==============================================================\n",
    "import numpy as np\n",
    "import pandas as pd\n",
    "import plotly.express as px\n",
    "import matplotlib.pyplot as plt\n",
    "plt.style.use('ggplot')\n",
    "import seaborn as sns"
   ]
  },
  {
   "cell_type": "code",
   "execution_count": 15,
   "id": "aab7ae21-6397-4c6f-8cf0-b0b6b05276b0",
   "metadata": {},
   "outputs": [],
   "source": [
    "# Carga de los datos \n",
    "AEP = pd.read_csv('DATA/COMED_hourly.csv')"
   ]
  },
  {
   "cell_type": "markdown",
   "id": "1cd6f980-887b-4fbb-b4f5-a8f3519dc4de",
   "metadata": {},
   "source": [
    "### <b>Análisis Exploratorio"
   ]
  },
  {
   "cell_type": "code",
   "execution_count": 16,
   "id": "dfb800f0-4a8d-4a18-a72e-986b17c2f39d",
   "metadata": {},
   "outputs": [
    {
     "data": {
      "text/html": [
       "<div>\n",
       "<style scoped>\n",
       "    .dataframe tbody tr th:only-of-type {\n",
       "        vertical-align: middle;\n",
       "    }\n",
       "\n",
       "    .dataframe tbody tr th {\n",
       "        vertical-align: top;\n",
       "    }\n",
       "\n",
       "    .dataframe thead th {\n",
       "        text-align: right;\n",
       "    }\n",
       "</style>\n",
       "<table border=\"1\" class=\"dataframe\">\n",
       "  <thead>\n",
       "    <tr style=\"text-align: right;\">\n",
       "      <th></th>\n",
       "      <th>Datetime</th>\n",
       "      <th>COMED_MW</th>\n",
       "    </tr>\n",
       "  </thead>\n",
       "  <tbody>\n",
       "    <tr>\n",
       "      <th>0</th>\n",
       "      <td>2011-12-31 01:00:00</td>\n",
       "      <td>9970.0</td>\n",
       "    </tr>\n",
       "    <tr>\n",
       "      <th>1</th>\n",
       "      <td>2011-12-31 02:00:00</td>\n",
       "      <td>9428.0</td>\n",
       "    </tr>\n",
       "    <tr>\n",
       "      <th>2</th>\n",
       "      <td>2011-12-31 03:00:00</td>\n",
       "      <td>9059.0</td>\n",
       "    </tr>\n",
       "    <tr>\n",
       "      <th>3</th>\n",
       "      <td>2011-12-31 04:00:00</td>\n",
       "      <td>8817.0</td>\n",
       "    </tr>\n",
       "    <tr>\n",
       "      <th>4</th>\n",
       "      <td>2011-12-31 05:00:00</td>\n",
       "      <td>8743.0</td>\n",
       "    </tr>\n",
       "  </tbody>\n",
       "</table>\n",
       "</div>"
      ],
      "text/plain": [
       "              Datetime  COMED_MW\n",
       "0  2011-12-31 01:00:00    9970.0\n",
       "1  2011-12-31 02:00:00    9428.0\n",
       "2  2011-12-31 03:00:00    9059.0\n",
       "3  2011-12-31 04:00:00    8817.0\n",
       "4  2011-12-31 05:00:00    8743.0"
      ]
     },
     "execution_count": 16,
     "metadata": {},
     "output_type": "execute_result"
    }
   ],
   "source": [
    "AEP.head()"
   ]
  },
  {
   "cell_type": "code",
   "execution_count": 17,
   "id": "70f83c32-97a2-4300-aa73-16eacf043ee7",
   "metadata": {},
   "outputs": [
    {
     "name": "stdout",
     "output_type": "stream",
     "text": [
      "<class 'pandas.core.frame.DataFrame'>\n",
      "RangeIndex: 66497 entries, 0 to 66496\n",
      "Data columns (total 2 columns):\n",
      " #   Column    Non-Null Count  Dtype  \n",
      "---  ------    --------------  -----  \n",
      " 0   Datetime  66497 non-null  object \n",
      " 1   COMED_MW  66497 non-null  float64\n",
      "dtypes: float64(1), object(1)\n",
      "memory usage: 1.0+ MB\n"
     ]
    }
   ],
   "source": [
    "AEP.info()"
   ]
  },
  {
   "cell_type": "code",
   "execution_count": 18,
   "id": "9782151d-5a10-48ae-b9fe-1fc3aea67622",
   "metadata": {},
   "outputs": [
    {
     "data": {
      "text/plain": [
       "Datetime    0\n",
       "COMED_MW    0\n",
       "dtype: int64"
      ]
     },
     "execution_count": 18,
     "metadata": {},
     "output_type": "execute_result"
    }
   ],
   "source": [
    "# Valores nulos\n",
    "AEP.isnull().sum()"
   ]
  },
  {
   "cell_type": "code",
   "execution_count": 19,
   "id": "4dd7aaa1-2374-4ac3-87a2-98f7ea13e453",
   "metadata": {},
   "outputs": [],
   "source": [
    "# Cambio de nombre a columna\n",
    "AEP.columns = ['datetime','mw']\n",
    "# Conviertiendo a tipo datetime\n",
    "AEP['datetime'] = pd.to_datetime(AEP['datetime'])"
   ]
  },
  {
   "cell_type": "code",
   "execution_count": 20,
   "id": "9c1fc6be-c6ae-4c3f-b785-b6e29d746576",
   "metadata": {},
   "outputs": [
    {
     "data": {
      "text/html": [
       "<div>\n",
       "<style scoped>\n",
       "    .dataframe tbody tr th:only-of-type {\n",
       "        vertical-align: middle;\n",
       "    }\n",
       "\n",
       "    .dataframe tbody tr th {\n",
       "        vertical-align: top;\n",
       "    }\n",
       "\n",
       "    .dataframe thead th {\n",
       "        text-align: right;\n",
       "    }\n",
       "</style>\n",
       "<table border=\"1\" class=\"dataframe\">\n",
       "  <thead>\n",
       "    <tr style=\"text-align: right;\">\n",
       "      <th></th>\n",
       "      <th>datetime</th>\n",
       "      <th>mw</th>\n",
       "    </tr>\n",
       "  </thead>\n",
       "  <tbody>\n",
       "    <tr>\n",
       "      <th>0</th>\n",
       "      <td>2011-12-31 01:00:00</td>\n",
       "      <td>9970.0</td>\n",
       "    </tr>\n",
       "    <tr>\n",
       "      <th>1</th>\n",
       "      <td>2011-12-31 02:00:00</td>\n",
       "      <td>9428.0</td>\n",
       "    </tr>\n",
       "    <tr>\n",
       "      <th>2</th>\n",
       "      <td>2011-12-31 03:00:00</td>\n",
       "      <td>9059.0</td>\n",
       "    </tr>\n",
       "    <tr>\n",
       "      <th>3</th>\n",
       "      <td>2011-12-31 04:00:00</td>\n",
       "      <td>8817.0</td>\n",
       "    </tr>\n",
       "    <tr>\n",
       "      <th>4</th>\n",
       "      <td>2011-12-31 05:00:00</td>\n",
       "      <td>8743.0</td>\n",
       "    </tr>\n",
       "    <tr>\n",
       "      <th>...</th>\n",
       "      <td>...</td>\n",
       "      <td>...</td>\n",
       "    </tr>\n",
       "    <tr>\n",
       "      <th>66492</th>\n",
       "      <td>2018-01-01 20:00:00</td>\n",
       "      <td>13858.0</td>\n",
       "    </tr>\n",
       "    <tr>\n",
       "      <th>66493</th>\n",
       "      <td>2018-01-01 21:00:00</td>\n",
       "      <td>13758.0</td>\n",
       "    </tr>\n",
       "    <tr>\n",
       "      <th>66494</th>\n",
       "      <td>2018-01-01 22:00:00</td>\n",
       "      <td>13627.0</td>\n",
       "    </tr>\n",
       "    <tr>\n",
       "      <th>66495</th>\n",
       "      <td>2018-01-01 23:00:00</td>\n",
       "      <td>13336.0</td>\n",
       "    </tr>\n",
       "    <tr>\n",
       "      <th>66496</th>\n",
       "      <td>2018-01-02 00:00:00</td>\n",
       "      <td>12816.0</td>\n",
       "    </tr>\n",
       "  </tbody>\n",
       "</table>\n",
       "<p>66497 rows × 2 columns</p>\n",
       "</div>"
      ],
      "text/plain": [
       "                 datetime       mw\n",
       "0     2011-12-31 01:00:00   9970.0\n",
       "1     2011-12-31 02:00:00   9428.0\n",
       "2     2011-12-31 03:00:00   9059.0\n",
       "3     2011-12-31 04:00:00   8817.0\n",
       "4     2011-12-31 05:00:00   8743.0\n",
       "...                   ...      ...\n",
       "66492 2018-01-01 20:00:00  13858.0\n",
       "66493 2018-01-01 21:00:00  13758.0\n",
       "66494 2018-01-01 22:00:00  13627.0\n",
       "66495 2018-01-01 23:00:00  13336.0\n",
       "66496 2018-01-02 00:00:00  12816.0\n",
       "\n",
       "[66497 rows x 2 columns]"
      ]
     },
     "execution_count": 20,
     "metadata": {},
     "output_type": "execute_result"
    }
   ],
   "source": [
    "AEP"
   ]
  },
  {
   "cell_type": "markdown",
   "id": "e32fda0a-4893-4e16-9a21-1b12f91c9441",
   "metadata": {},
   "source": [
    "Contamos con 121,273 registros, que comprenden el consumo eléctrico por hora en megavatios. Estos abarcan un período desde el día 1 de octubre de 2004 hasta el día 3 de Agosto de 2018. Sin registros nulos."
   ]
  },
  {
   "cell_type": "code",
   "execution_count": 21,
   "id": "1b5932ac-2ada-4ec7-a997-621a748a2229",
   "metadata": {},
   "outputs": [
    {
     "data": {
      "text/html": [
       "<div>\n",
       "<style scoped>\n",
       "    .dataframe tbody tr th:only-of-type {\n",
       "        vertical-align: middle;\n",
       "    }\n",
       "\n",
       "    .dataframe tbody tr th {\n",
       "        vertical-align: top;\n",
       "    }\n",
       "\n",
       "    .dataframe thead th {\n",
       "        text-align: right;\n",
       "    }\n",
       "</style>\n",
       "<table border=\"1\" class=\"dataframe\">\n",
       "  <thead>\n",
       "    <tr style=\"text-align: right;\">\n",
       "      <th></th>\n",
       "      <th>mw</th>\n",
       "      <th>anio</th>\n",
       "      <th>quarter</th>\n",
       "      <th>mes</th>\n",
       "      <th>hora</th>\n",
       "    </tr>\n",
       "    <tr>\n",
       "      <th>datetime</th>\n",
       "      <th></th>\n",
       "      <th></th>\n",
       "      <th></th>\n",
       "      <th></th>\n",
       "      <th></th>\n",
       "    </tr>\n",
       "  </thead>\n",
       "  <tbody>\n",
       "    <tr>\n",
       "      <th>2011-01-01 01:00:00</th>\n",
       "      <td>9631.0</td>\n",
       "      <td>2011</td>\n",
       "      <td>1</td>\n",
       "      <td>1</td>\n",
       "      <td>1</td>\n",
       "    </tr>\n",
       "    <tr>\n",
       "      <th>2011-01-01 02:00:00</th>\n",
       "      <td>9273.0</td>\n",
       "      <td>2011</td>\n",
       "      <td>1</td>\n",
       "      <td>1</td>\n",
       "      <td>2</td>\n",
       "    </tr>\n",
       "    <tr>\n",
       "      <th>2011-01-01 03:00:00</th>\n",
       "      <td>9011.0</td>\n",
       "      <td>2011</td>\n",
       "      <td>1</td>\n",
       "      <td>1</td>\n",
       "      <td>3</td>\n",
       "    </tr>\n",
       "    <tr>\n",
       "      <th>2011-01-01 04:00:00</th>\n",
       "      <td>8741.0</td>\n",
       "      <td>2011</td>\n",
       "      <td>1</td>\n",
       "      <td>1</td>\n",
       "      <td>4</td>\n",
       "    </tr>\n",
       "    <tr>\n",
       "      <th>2011-01-01 05:00:00</th>\n",
       "      <td>8694.0</td>\n",
       "      <td>2011</td>\n",
       "      <td>1</td>\n",
       "      <td>1</td>\n",
       "      <td>5</td>\n",
       "    </tr>\n",
       "    <tr>\n",
       "      <th>...</th>\n",
       "      <td>...</td>\n",
       "      <td>...</td>\n",
       "      <td>...</td>\n",
       "      <td>...</td>\n",
       "      <td>...</td>\n",
       "    </tr>\n",
       "    <tr>\n",
       "      <th>2018-08-02 20:00:00</th>\n",
       "      <td>16437.0</td>\n",
       "      <td>2018</td>\n",
       "      <td>3</td>\n",
       "      <td>8</td>\n",
       "      <td>20</td>\n",
       "    </tr>\n",
       "    <tr>\n",
       "      <th>2018-08-02 21:00:00</th>\n",
       "      <td>15590.0</td>\n",
       "      <td>2018</td>\n",
       "      <td>3</td>\n",
       "      <td>8</td>\n",
       "      <td>21</td>\n",
       "    </tr>\n",
       "    <tr>\n",
       "      <th>2018-08-02 22:00:00</th>\n",
       "      <td>15086.0</td>\n",
       "      <td>2018</td>\n",
       "      <td>3</td>\n",
       "      <td>8</td>\n",
       "      <td>22</td>\n",
       "    </tr>\n",
       "    <tr>\n",
       "      <th>2018-08-02 23:00:00</th>\n",
       "      <td>14448.0</td>\n",
       "      <td>2018</td>\n",
       "      <td>3</td>\n",
       "      <td>8</td>\n",
       "      <td>23</td>\n",
       "    </tr>\n",
       "    <tr>\n",
       "      <th>2018-08-03 00:00:00</th>\n",
       "      <td>13335.0</td>\n",
       "      <td>2018</td>\n",
       "      <td>3</td>\n",
       "      <td>8</td>\n",
       "      <td>0</td>\n",
       "    </tr>\n",
       "  </tbody>\n",
       "</table>\n",
       "<p>66497 rows × 5 columns</p>\n",
       "</div>"
      ],
      "text/plain": [
       "                          mw  anio  quarter  mes  hora\n",
       "datetime                                              \n",
       "2011-01-01 01:00:00   9631.0  2011        1    1     1\n",
       "2011-01-01 02:00:00   9273.0  2011        1    1     2\n",
       "2011-01-01 03:00:00   9011.0  2011        1    1     3\n",
       "2011-01-01 04:00:00   8741.0  2011        1    1     4\n",
       "2011-01-01 05:00:00   8694.0  2011        1    1     5\n",
       "...                      ...   ...      ...  ...   ...\n",
       "2018-08-02 20:00:00  16437.0  2018        3    8    20\n",
       "2018-08-02 21:00:00  15590.0  2018        3    8    21\n",
       "2018-08-02 22:00:00  15086.0  2018        3    8    22\n",
       "2018-08-02 23:00:00  14448.0  2018        3    8    23\n",
       "2018-08-03 00:00:00  13335.0  2018        3    8     0\n",
       "\n",
       "[66497 rows x 5 columns]"
      ]
     },
     "execution_count": 21,
     "metadata": {},
     "output_type": "execute_result"
    }
   ],
   "source": [
    "AEP.sort_values('datetime', inplace=True)\n",
    "# Columna de años\n",
    "AEP['anio'] = AEP['datetime'].dt.year\n",
    "# Columna de cuartos\n",
    "AEP['quarter'] = AEP['datetime'].dt.quarter\n",
    "# Columna de meses\n",
    "AEP['mes'] = AEP['datetime'].dt.month\n",
    "# Columna de horas\n",
    "AEP['hora'] = AEP['datetime'].dt.hour\n",
    "# Estableciendo la variable 'Datetime' como indice\n",
    "AEP = AEP.set_index('datetime')\n",
    "#AEP = AEP.asfreq('1H')\n",
    "AEP"
   ]
  },
  {
   "cell_type": "code",
   "execution_count": 22,
   "id": "c3d6e18e-6f67-4a33-8160-1ca15f52dd11",
   "metadata": {},
   "outputs": [
    {
     "data": {
      "text/plain": [
       "False"
      ]
     },
     "execution_count": 22,
     "metadata": {},
     "output_type": "execute_result"
    }
   ],
   "source": [
    "# Verificar que un índice temporal está completo\n",
    "# ==============================================================================\n",
    "(len(AEP.index) == pd.date_range(\n",
    "                    start = AEP.index.min(),\n",
    "                    end   = AEP.index.max(),\n",
    "                    freq  = 'H')\n",
    ").all()"
   ]
  },
  {
   "cell_type": "code",
   "execution_count": 23,
   "id": "b99061fa-f6a0-4551-9f0b-b878b56e089e",
   "metadata": {},
   "outputs": [
    {
     "data": {
      "text/plain": [
       "66497"
      ]
     },
     "execution_count": 23,
     "metadata": {},
     "output_type": "execute_result"
    }
   ],
   "source": [
    "pd.date_range(\n",
    "                    start = AEP.index.min(),\n",
    "                    end   = AEP.index.max(),\n",
    "                    freq  = 'H')"
   ]
  },
  {
   "cell_type": "code",
   "execution_count": null,
   "id": "92e6d753-3f0b-4772-9980-cbe736e531d0",
   "metadata": {},
   "outputs": [],
   "source": [
    "meses = ['Enero','Febrero','Marzo','Abril','Mayo','Junio','Julio','Agosto','Septiembre','Octubre','Noviembre','Diciembre']"
   ]
  },
  {
   "cell_type": "markdown",
   "id": "6a3c9188-99d5-4a22-8d88-eba374d07d41",
   "metadata": {},
   "source": [
    "## Distribución de demanda por mes"
   ]
  },
  {
   "cell_type": "code",
   "execution_count": null,
   "id": "f1396d29-d9db-478d-9e38-bd11fdaad963",
   "metadata": {},
   "outputs": [],
   "source": [
    "fig, axes = plt.subplots(nrows=2, ncols=1, figsize=(24,12))\n",
    "plt.title(\"DEMANDA POR MES\", fontsize=24)\n",
    "sns.lineplot(x='mes', y='MW', hue='anio', data=AEP, ci=None, ax=axes[0])\n",
    "plt.xticks(np.arange(1,13), meses)\n",
    "\n",
    "sns.boxplot(x='mes', y='MW', data=AEP, ax=axes[1])\n",
    "demanda_mes = AEP.groupby('mes')['MW'].median().reset_index()\n",
    "sns.lineplot(x=demanda_mes.mes, y=demanda_mes.MW, ax=axes[1])\n",
    "plt.show()"
   ]
  },
  {
   "cell_type": "code",
   "execution_count": null,
   "id": "bb504c68-a86c-4eaf-b3d4-33bbf398b7e3",
   "metadata": {},
   "outputs": [],
   "source": [
    "plt.figure(figsize=(12,6))\n",
    "sns.lineplot(x=demanda_mes.mes, y=demanda_mes.MW)\n",
    "\n"
   ]
  },
  {
   "cell_type": "markdown",
   "id": "1d2f38f3-f0bf-49ce-98ef-c783475f7298",
   "metadata": {},
   "source": [
    "Podemos observar que existe "
   ]
  },
  {
   "cell_type": "markdown",
   "id": "6b71b603-82de-4108-a188-ed5c80e60716",
   "metadata": {},
   "source": [
    "## Tendencia de consumo por cuatrimestre"
   ]
  },
  {
   "cell_type": "code",
   "execution_count": null,
   "id": "b9129a25-6158-4d1e-a258-f5d7c58c490d",
   "metadata": {},
   "outputs": [],
   "source": [
    "fig, ax = plt.subplots(figsize=(24,6))\n",
    "plt.title(\"CONSUMO ELÉCTRICO PROMEDIO POR CUARTO\", fontsize=18)\n",
    "sns.lineplot(x='quarter', y='MW', hue='anio', data=AEP, marker='o')\n",
    "plt.xticks(np.arange(1,5), ['Q1','Q2','Q3','Q4'])\n",
    "\n",
    "fig, ax = plt.subplots(figsize=(24,6))\n",
    "sns.boxplot(x='quarter', y='MW', data=AEP)\n",
    "plt.xticks(np.arange(1,5), ['Q1','Q2','Q3','Q4'])\n",
    "plt.show()"
   ]
  },
  {
   "cell_type": "markdown",
   "id": "e6260421-c1bf-4520-9f7c-f9393ab4cf77",
   "metadata": {},
   "source": [
    "## Tendencias de consumo por horas"
   ]
  },
  {
   "cell_type": "code",
   "execution_count": null,
   "id": "becbc8b3-0cdd-4550-a776-567b1ae888a3",
   "metadata": {},
   "outputs": [],
   "source": [
    "plt.figure(figsize=(24, 6))\n",
    "plt.title(\"CONSUMO ELÉCTRICO PROMEDIO POR HORA\", fontsize=24)\n",
    "sns.lineplot(x='hora', y='MW', hue='quarter', data=AEP, marker='o')\n",
    "plt.xticks(range(24))\n",
    "plt.show()"
   ]
  },
  {
   "cell_type": "code",
   "execution_count": null,
   "id": "9123cba2-f9a6-4628-8c80-8d1caa3b41f2",
   "metadata": {},
   "outputs": [],
   "source": [
    "plt.figure(figsize=(24, 6))\n",
    "plt.title(\"CONSUMO ELÉCTRICO PROMEDIO POR HORA/CUARTOS\", fontsize=24)\n",
    "sns.lineplot(x='hora', y='MW', hue='anio', data=AEP, marker=\"o\", palette='Dark2')\n",
    "plt.xticks(range(24))\n",
    "plt.grid()\n",
    "plt.show()"
   ]
  }
 ],
 "metadata": {
  "kernelspec": {
   "display_name": "Python 3",
   "language": "python",
   "name": "python3"
  },
  "language_info": {
   "codemirror_mode": {
    "name": "ipython",
    "version": 3
   },
   "file_extension": ".py",
   "mimetype": "text/x-python",
   "name": "python",
   "nbconvert_exporter": "python",
   "pygments_lexer": "ipython3",
   "version": "3.8.8"
  }
 },
 "nbformat": 4,
 "nbformat_minor": 5
}
